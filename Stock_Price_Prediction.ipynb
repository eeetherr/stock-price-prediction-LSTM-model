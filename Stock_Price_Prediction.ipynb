{
  "nbformat": 4,
  "nbformat_minor": 0,
  "metadata": {
    "colab": {
      "provenance": [],
      "include_colab_link": true
    },
    "kernelspec": {
      "name": "python3",
      "display_name": "Python 3"
    },
    "language_info": {
      "name": "python"
    }
  },
  "cells": [
    {
      "cell_type": "markdown",
      "metadata": {
        "id": "view-in-github",
        "colab_type": "text"
      },
      "source": [
        "<a href=\"https://colab.research.google.com/github/sakshamdev123/stock-price-prediction-LSTM-model/blob/main/Stock_Price_Prediction.ipynb\" target=\"_parent\"><img src=\"https://colab.research.google.com/assets/colab-badge.svg\" alt=\"Open In Colab\"/></a>"
      ]
    },
    {
      "cell_type": "code",
      "source": [
        "import numpy as np\n",
        "import pandas as pd\n",
        "import matplotlib.pyplot as plt\n",
        "from sklearn.preprocessing import MinMaxScaler\n",
        "from keras.models import Sequential\n",
        "from keras.layers import Dense,LSTM,Dropout"
      ],
      "metadata": {
        "id": "hQFCpufENImv"
      },
      "execution_count": null,
      "outputs": []
    },
    {
      "cell_type": "code",
      "source": [
        "data = pd.read_csv('Google_train_data.csv')\n",
        "data.head()"
      ],
      "metadata": {
        "colab": {
          "base_uri": "https://localhost:8080/",
          "height": 206
        },
        "id": "8AKd5aUXNRJg",
        "outputId": "090c4b7f-7b60-4e9a-a7e0-b1a482703a1d"
      },
      "execution_count": null,
      "outputs": [
        {
          "output_type": "execute_result",
          "data": {
            "text/plain": [
              "       Date    Open    High     Low   Close      Volume\n",
              "0  1/3/2012  325.25  332.83  324.97  663.59   7,380,500\n",
              "1  1/4/2012  331.27  333.87  329.08  666.45   5,749,400\n",
              "2  1/5/2012  329.83  330.75  326.89  657.21   6,590,300\n",
              "3  1/6/2012  328.34  328.77  323.68  648.24   5,405,900\n",
              "4  1/9/2012  322.04  322.29  309.46  620.76  11,688,800"
            ],
            "text/html": [
              "\n",
              "  <div id=\"df-0c93b5b9-4041-402d-a194-77421fc36347\" class=\"colab-df-container\">\n",
              "    <div>\n",
              "<style scoped>\n",
              "    .dataframe tbody tr th:only-of-type {\n",
              "        vertical-align: middle;\n",
              "    }\n",
              "\n",
              "    .dataframe tbody tr th {\n",
              "        vertical-align: top;\n",
              "    }\n",
              "\n",
              "    .dataframe thead th {\n",
              "        text-align: right;\n",
              "    }\n",
              "</style>\n",
              "<table border=\"1\" class=\"dataframe\">\n",
              "  <thead>\n",
              "    <tr style=\"text-align: right;\">\n",
              "      <th></th>\n",
              "      <th>Date</th>\n",
              "      <th>Open</th>\n",
              "      <th>High</th>\n",
              "      <th>Low</th>\n",
              "      <th>Close</th>\n",
              "      <th>Volume</th>\n",
              "    </tr>\n",
              "  </thead>\n",
              "  <tbody>\n",
              "    <tr>\n",
              "      <th>0</th>\n",
              "      <td>1/3/2012</td>\n",
              "      <td>325.25</td>\n",
              "      <td>332.83</td>\n",
              "      <td>324.97</td>\n",
              "      <td>663.59</td>\n",
              "      <td>7,380,500</td>\n",
              "    </tr>\n",
              "    <tr>\n",
              "      <th>1</th>\n",
              "      <td>1/4/2012</td>\n",
              "      <td>331.27</td>\n",
              "      <td>333.87</td>\n",
              "      <td>329.08</td>\n",
              "      <td>666.45</td>\n",
              "      <td>5,749,400</td>\n",
              "    </tr>\n",
              "    <tr>\n",
              "      <th>2</th>\n",
              "      <td>1/5/2012</td>\n",
              "      <td>329.83</td>\n",
              "      <td>330.75</td>\n",
              "      <td>326.89</td>\n",
              "      <td>657.21</td>\n",
              "      <td>6,590,300</td>\n",
              "    </tr>\n",
              "    <tr>\n",
              "      <th>3</th>\n",
              "      <td>1/6/2012</td>\n",
              "      <td>328.34</td>\n",
              "      <td>328.77</td>\n",
              "      <td>323.68</td>\n",
              "      <td>648.24</td>\n",
              "      <td>5,405,900</td>\n",
              "    </tr>\n",
              "    <tr>\n",
              "      <th>4</th>\n",
              "      <td>1/9/2012</td>\n",
              "      <td>322.04</td>\n",
              "      <td>322.29</td>\n",
              "      <td>309.46</td>\n",
              "      <td>620.76</td>\n",
              "      <td>11,688,800</td>\n",
              "    </tr>\n",
              "  </tbody>\n",
              "</table>\n",
              "</div>\n",
              "    <div class=\"colab-df-buttons\">\n",
              "\n",
              "  <div class=\"colab-df-container\">\n",
              "    <button class=\"colab-df-convert\" onclick=\"convertToInteractive('df-0c93b5b9-4041-402d-a194-77421fc36347')\"\n",
              "            title=\"Convert this dataframe to an interactive table.\"\n",
              "            style=\"display:none;\">\n",
              "\n",
              "  <svg xmlns=\"http://www.w3.org/2000/svg\" height=\"24px\" viewBox=\"0 -960 960 960\">\n",
              "    <path d=\"M120-120v-720h720v720H120Zm60-500h600v-160H180v160Zm220 220h160v-160H400v160Zm0 220h160v-160H400v160ZM180-400h160v-160H180v160Zm440 0h160v-160H620v160ZM180-180h160v-160H180v160Zm440 0h160v-160H620v160Z\"/>\n",
              "  </svg>\n",
              "    </button>\n",
              "\n",
              "  <style>\n",
              "    .colab-df-container {\n",
              "      display:flex;\n",
              "      gap: 12px;\n",
              "    }\n",
              "\n",
              "    .colab-df-convert {\n",
              "      background-color: #E8F0FE;\n",
              "      border: none;\n",
              "      border-radius: 50%;\n",
              "      cursor: pointer;\n",
              "      display: none;\n",
              "      fill: #1967D2;\n",
              "      height: 32px;\n",
              "      padding: 0 0 0 0;\n",
              "      width: 32px;\n",
              "    }\n",
              "\n",
              "    .colab-df-convert:hover {\n",
              "      background-color: #E2EBFA;\n",
              "      box-shadow: 0px 1px 2px rgba(60, 64, 67, 0.3), 0px 1px 3px 1px rgba(60, 64, 67, 0.15);\n",
              "      fill: #174EA6;\n",
              "    }\n",
              "\n",
              "    .colab-df-buttons div {\n",
              "      margin-bottom: 4px;\n",
              "    }\n",
              "\n",
              "    [theme=dark] .colab-df-convert {\n",
              "      background-color: #3B4455;\n",
              "      fill: #D2E3FC;\n",
              "    }\n",
              "\n",
              "    [theme=dark] .colab-df-convert:hover {\n",
              "      background-color: #434B5C;\n",
              "      box-shadow: 0px 1px 3px 1px rgba(0, 0, 0, 0.15);\n",
              "      filter: drop-shadow(0px 1px 2px rgba(0, 0, 0, 0.3));\n",
              "      fill: #FFFFFF;\n",
              "    }\n",
              "  </style>\n",
              "\n",
              "    <script>\n",
              "      const buttonEl =\n",
              "        document.querySelector('#df-0c93b5b9-4041-402d-a194-77421fc36347 button.colab-df-convert');\n",
              "      buttonEl.style.display =\n",
              "        google.colab.kernel.accessAllowed ? 'block' : 'none';\n",
              "\n",
              "      async function convertToInteractive(key) {\n",
              "        const element = document.querySelector('#df-0c93b5b9-4041-402d-a194-77421fc36347');\n",
              "        const dataTable =\n",
              "          await google.colab.kernel.invokeFunction('convertToInteractive',\n",
              "                                                    [key], {});\n",
              "        if (!dataTable) return;\n",
              "\n",
              "        const docLinkHtml = 'Like what you see? Visit the ' +\n",
              "          '<a target=\"_blank\" href=https://colab.research.google.com/notebooks/data_table.ipynb>data table notebook</a>'\n",
              "          + ' to learn more about interactive tables.';\n",
              "        element.innerHTML = '';\n",
              "        dataTable['output_type'] = 'display_data';\n",
              "        await google.colab.output.renderOutput(dataTable, element);\n",
              "        const docLink = document.createElement('div');\n",
              "        docLink.innerHTML = docLinkHtml;\n",
              "        element.appendChild(docLink);\n",
              "      }\n",
              "    </script>\n",
              "  </div>\n",
              "\n",
              "\n",
              "<div id=\"df-3238633b-ba48-4e1d-913e-07b5e28c712b\">\n",
              "  <button class=\"colab-df-quickchart\" onclick=\"quickchart('df-3238633b-ba48-4e1d-913e-07b5e28c712b')\"\n",
              "            title=\"Suggest charts\"\n",
              "            style=\"display:none;\">\n",
              "\n",
              "<svg xmlns=\"http://www.w3.org/2000/svg\" height=\"24px\"viewBox=\"0 0 24 24\"\n",
              "     width=\"24px\">\n",
              "    <g>\n",
              "        <path d=\"M19 3H5c-1.1 0-2 .9-2 2v14c0 1.1.9 2 2 2h14c1.1 0 2-.9 2-2V5c0-1.1-.9-2-2-2zM9 17H7v-7h2v7zm4 0h-2V7h2v10zm4 0h-2v-4h2v4z\"/>\n",
              "    </g>\n",
              "</svg>\n",
              "  </button>\n",
              "\n",
              "<style>\n",
              "  .colab-df-quickchart {\n",
              "      --bg-color: #E8F0FE;\n",
              "      --fill-color: #1967D2;\n",
              "      --hover-bg-color: #E2EBFA;\n",
              "      --hover-fill-color: #174EA6;\n",
              "      --disabled-fill-color: #AAA;\n",
              "      --disabled-bg-color: #DDD;\n",
              "  }\n",
              "\n",
              "  [theme=dark] .colab-df-quickchart {\n",
              "      --bg-color: #3B4455;\n",
              "      --fill-color: #D2E3FC;\n",
              "      --hover-bg-color: #434B5C;\n",
              "      --hover-fill-color: #FFFFFF;\n",
              "      --disabled-bg-color: #3B4455;\n",
              "      --disabled-fill-color: #666;\n",
              "  }\n",
              "\n",
              "  .colab-df-quickchart {\n",
              "    background-color: var(--bg-color);\n",
              "    border: none;\n",
              "    border-radius: 50%;\n",
              "    cursor: pointer;\n",
              "    display: none;\n",
              "    fill: var(--fill-color);\n",
              "    height: 32px;\n",
              "    padding: 0;\n",
              "    width: 32px;\n",
              "  }\n",
              "\n",
              "  .colab-df-quickchart:hover {\n",
              "    background-color: var(--hover-bg-color);\n",
              "    box-shadow: 0 1px 2px rgba(60, 64, 67, 0.3), 0 1px 3px 1px rgba(60, 64, 67, 0.15);\n",
              "    fill: var(--button-hover-fill-color);\n",
              "  }\n",
              "\n",
              "  .colab-df-quickchart-complete:disabled,\n",
              "  .colab-df-quickchart-complete:disabled:hover {\n",
              "    background-color: var(--disabled-bg-color);\n",
              "    fill: var(--disabled-fill-color);\n",
              "    box-shadow: none;\n",
              "  }\n",
              "\n",
              "  .colab-df-spinner {\n",
              "    border: 2px solid var(--fill-color);\n",
              "    border-color: transparent;\n",
              "    border-bottom-color: var(--fill-color);\n",
              "    animation:\n",
              "      spin 1s steps(1) infinite;\n",
              "  }\n",
              "\n",
              "  @keyframes spin {\n",
              "    0% {\n",
              "      border-color: transparent;\n",
              "      border-bottom-color: var(--fill-color);\n",
              "      border-left-color: var(--fill-color);\n",
              "    }\n",
              "    20% {\n",
              "      border-color: transparent;\n",
              "      border-left-color: var(--fill-color);\n",
              "      border-top-color: var(--fill-color);\n",
              "    }\n",
              "    30% {\n",
              "      border-color: transparent;\n",
              "      border-left-color: var(--fill-color);\n",
              "      border-top-color: var(--fill-color);\n",
              "      border-right-color: var(--fill-color);\n",
              "    }\n",
              "    40% {\n",
              "      border-color: transparent;\n",
              "      border-right-color: var(--fill-color);\n",
              "      border-top-color: var(--fill-color);\n",
              "    }\n",
              "    60% {\n",
              "      border-color: transparent;\n",
              "      border-right-color: var(--fill-color);\n",
              "    }\n",
              "    80% {\n",
              "      border-color: transparent;\n",
              "      border-right-color: var(--fill-color);\n",
              "      border-bottom-color: var(--fill-color);\n",
              "    }\n",
              "    90% {\n",
              "      border-color: transparent;\n",
              "      border-bottom-color: var(--fill-color);\n",
              "    }\n",
              "  }\n",
              "</style>\n",
              "\n",
              "  <script>\n",
              "    async function quickchart(key) {\n",
              "      const quickchartButtonEl =\n",
              "        document.querySelector('#' + key + ' button');\n",
              "      quickchartButtonEl.disabled = true;  // To prevent multiple clicks.\n",
              "      quickchartButtonEl.classList.add('colab-df-spinner');\n",
              "      try {\n",
              "        const charts = await google.colab.kernel.invokeFunction(\n",
              "            'suggestCharts', [key], {});\n",
              "      } catch (error) {\n",
              "        console.error('Error during call to suggestCharts:', error);\n",
              "      }\n",
              "      quickchartButtonEl.classList.remove('colab-df-spinner');\n",
              "      quickchartButtonEl.classList.add('colab-df-quickchart-complete');\n",
              "    }\n",
              "    (() => {\n",
              "      let quickchartButtonEl =\n",
              "        document.querySelector('#df-3238633b-ba48-4e1d-913e-07b5e28c712b button');\n",
              "      quickchartButtonEl.style.display =\n",
              "        google.colab.kernel.accessAllowed ? 'block' : 'none';\n",
              "    })();\n",
              "  </script>\n",
              "</div>\n",
              "    </div>\n",
              "  </div>\n"
            ]
          },
          "metadata": {},
          "execution_count": 2
        }
      ]
    },
    {
      "cell_type": "code",
      "source": [
        "data.info()"
      ],
      "metadata": {
        "colab": {
          "base_uri": "https://localhost:8080/"
        },
        "id": "ruqeT-07NUGa",
        "outputId": "c8587c89-b998-4cd2-873b-3d0caae47390"
      },
      "execution_count": null,
      "outputs": [
        {
          "output_type": "stream",
          "name": "stdout",
          "text": [
            "<class 'pandas.core.frame.DataFrame'>\n",
            "RangeIndex: 1258 entries, 0 to 1257\n",
            "Data columns (total 6 columns):\n",
            " #   Column  Non-Null Count  Dtype  \n",
            "---  ------  --------------  -----  \n",
            " 0   Date    1258 non-null   object \n",
            " 1   Open    1258 non-null   float64\n",
            " 2   High    1258 non-null   float64\n",
            " 3   Low     1258 non-null   float64\n",
            " 4   Close   1258 non-null   object \n",
            " 5   Volume  1258 non-null   object \n",
            "dtypes: float64(3), object(3)\n",
            "memory usage: 59.1+ KB\n"
          ]
        }
      ]
    },
    {
      "cell_type": "code",
      "source": [
        "data[\"Close\"]=pd.to_numeric(data.Close,errors='coerce')\n",
        "data = data.dropna()\n",
        "trainData = data.iloc[:,4:5].values"
      ],
      "metadata": {
        "id": "tf7TxYkJNWHg"
      },
      "execution_count": null,
      "outputs": []
    },
    {
      "cell_type": "code",
      "source": [
        "data.info()"
      ],
      "metadata": {
        "colab": {
          "base_uri": "https://localhost:8080/"
        },
        "id": "IbSKv3ipNa8A",
        "outputId": "fffb856b-ac65-46ea-8647-605142821e0f"
      },
      "execution_count": null,
      "outputs": [
        {
          "output_type": "stream",
          "name": "stdout",
          "text": [
            "<class 'pandas.core.frame.DataFrame'>\n",
            "Int64Index: 1149 entries, 0 to 1257\n",
            "Data columns (total 6 columns):\n",
            " #   Column  Non-Null Count  Dtype  \n",
            "---  ------  --------------  -----  \n",
            " 0   Date    1149 non-null   object \n",
            " 1   Open    1149 non-null   float64\n",
            " 2   High    1149 non-null   float64\n",
            " 3   Low     1149 non-null   float64\n",
            " 4   Close   1149 non-null   float64\n",
            " 5   Volume  1149 non-null   object \n",
            "dtypes: float64(4), object(2)\n",
            "memory usage: 62.8+ KB\n"
          ]
        }
      ]
    },
    {
      "cell_type": "code",
      "source": [
        "sc = MinMaxScaler(feature_range=(0,1))\n",
        "trainData = sc.fit_transform(trainData)\n",
        "trainData.shape"
      ],
      "metadata": {
        "colab": {
          "base_uri": "https://localhost:8080/"
        },
        "id": "alX9FagxNehb",
        "outputId": "3108dc9e-46d8-48fb-b936-b0942dcc21c6"
      },
      "execution_count": null,
      "outputs": [
        {
          "output_type": "execute_result",
          "data": {
            "text/plain": [
              "(1149, 1)"
            ]
          },
          "metadata": {},
          "execution_count": 6
        }
      ]
    },
    {
      "cell_type": "code",
      "source": [
        "X_train = []\n",
        "y_train = []\n",
        "\n",
        "for i in range (60,1149):\n",
        "    X_train.append(trainData[i-60:i,0])\n",
        "    y_train.append(trainData[i,0])\n",
        "\n",
        "X_train,y_train = np.array(X_train),np.array(y_train)"
      ],
      "metadata": {
        "id": "TIJEOZ9dNh_3"
      },
      "execution_count": null,
      "outputs": []
    },
    {
      "cell_type": "code",
      "source": [
        "X_train = np.reshape(X_train,(X_train.shape[0],X_train.shape[1],1))\n",
        "X_train.shape"
      ],
      "metadata": {
        "colab": {
          "base_uri": "https://localhost:8080/"
        },
        "id": "vpn-DfdMNnBT",
        "outputId": "06b253d4-ff1d-4dec-f3be-3a84ea2a54bf"
      },
      "execution_count": null,
      "outputs": [
        {
          "output_type": "execute_result",
          "data": {
            "text/plain": [
              "(1089, 60, 1)"
            ]
          },
          "metadata": {},
          "execution_count": 8
        }
      ]
    },
    {
      "cell_type": "code",
      "source": [
        "model = Sequential()\n",
        "\n",
        "model.add(LSTM(units=100, return_sequences = True, input_shape =(X_train.shape[1],1)))\n",
        "model.add(Dropout(0.2))\n",
        "\n",
        "model.add(LSTM(units=100, return_sequences = True))\n",
        "model.add(Dropout(0.2))\n",
        "\n",
        "model.add(LSTM(units=100, return_sequences = True))\n",
        "model.add(Dropout(0.2))\n",
        "\n",
        "model.add(LSTM(units=100, return_sequences = False))\n",
        "model.add(Dropout(0.2))\n",
        "\n",
        "model.add(Dense(units =1))\n",
        "model.compile(optimizer='adam',loss=\"mean_squared_error\")"
      ],
      "metadata": {
        "id": "z-1l9qnANqF8"
      },
      "execution_count": null,
      "outputs": []
    },
    {
      "cell_type": "code",
      "source": [
        "hist = model.fit(X_train, y_train, epochs = 20, batch_size = 32, verbose=2)"
      ],
      "metadata": {
        "colab": {
          "base_uri": "https://localhost:8080/"
        },
        "id": "7HHsEGQrNtX4",
        "outputId": "bc1d70fb-300b-4794-d7ca-ad2296147cef"
      },
      "execution_count": null,
      "outputs": [
        {
          "output_type": "stream",
          "name": "stdout",
          "text": [
            "Epoch 1/20\n",
            "35/35 - 18s - loss: 0.0473 - 18s/epoch - 524ms/step\n",
            "Epoch 2/20\n",
            "35/35 - 11s - loss: 0.0142 - 11s/epoch - 314ms/step\n",
            "Epoch 3/20\n",
            "35/35 - 9s - loss: 0.0117 - 9s/epoch - 258ms/step\n",
            "Epoch 4/20\n",
            "35/35 - 10s - loss: 0.0104 - 10s/epoch - 299ms/step\n",
            "Epoch 5/20\n",
            "35/35 - 8s - loss: 0.0087 - 8s/epoch - 237ms/step\n",
            "Epoch 6/20\n",
            "35/35 - 14s - loss: 0.0080 - 14s/epoch - 413ms/step\n",
            "Epoch 7/20\n",
            "35/35 - 11s - loss: 0.0076 - 11s/epoch - 304ms/step\n",
            "Epoch 8/20\n",
            "35/35 - 7s - loss: 0.0076 - 7s/epoch - 194ms/step\n",
            "Epoch 9/20\n",
            "35/35 - 8s - loss: 0.0070 - 8s/epoch - 234ms/step\n",
            "Epoch 10/20\n",
            "35/35 - 6s - loss: 0.0064 - 6s/epoch - 179ms/step\n",
            "Epoch 11/20\n",
            "35/35 - 8s - loss: 0.0063 - 8s/epoch - 236ms/step\n",
            "Epoch 12/20\n",
            "35/35 - 6s - loss: 0.0064 - 6s/epoch - 180ms/step\n",
            "Epoch 13/20\n",
            "35/35 - 8s - loss: 0.0070 - 8s/epoch - 237ms/step\n",
            "Epoch 14/20\n",
            "35/35 - 6s - loss: 0.0062 - 6s/epoch - 184ms/step\n",
            "Epoch 15/20\n",
            "35/35 - 8s - loss: 0.0053 - 8s/epoch - 238ms/step\n",
            "Epoch 16/20\n",
            "35/35 - 6s - loss: 0.0056 - 6s/epoch - 181ms/step\n",
            "Epoch 17/20\n",
            "35/35 - 8s - loss: 0.0052 - 8s/epoch - 236ms/step\n",
            "Epoch 18/20\n",
            "35/35 - 6s - loss: 0.0049 - 6s/epoch - 181ms/step\n",
            "Epoch 19/20\n",
            "35/35 - 10s - loss: 0.0047 - 10s/epoch - 273ms/step\n",
            "Epoch 20/20\n",
            "35/35 - 6s - loss: 0.0054 - 6s/epoch - 181ms/step\n"
          ]
        }
      ]
    },
    {
      "cell_type": "code",
      "source": [
        "plt.plot(hist.history['loss'])\n",
        "plt.title('Training model loss')\n",
        "plt.ylabel('loss')\n",
        "plt.xlabel('epoch')\n",
        "plt.legend(['train'], loc='upper left')\n",
        "plt.show()"
      ],
      "metadata": {
        "colab": {
          "base_uri": "https://localhost:8080/",
          "height": 472
        },
        "id": "acfW_4q-Nwre",
        "outputId": "5ad37370-6380-4df0-a530-7b3a5b739076"
      },
      "execution_count": null,
      "outputs": [
        {
          "output_type": "display_data",
          "data": {
            "text/plain": [
              "<Figure size 640x480 with 1 Axes>"
            ],
            "image/png": "[encoded data removed]"
          },
          "metadata": {}
        }
      ]
    },
    {
      "cell_type": "code",
      "source": [
        "testData = pd.read_csv('Google_test_data.csv')\n",
        "testData[\"Close\"]=pd.to_numeric(testData.Close,errors='coerce')\n",
        "testData = testData.dropna()\n",
        "testData = testData.iloc[:,4:5]\n",
        "y_test = testData.iloc[60:,0:].values\n",
        "#input array for the model\n",
        "inputClosing = testData.iloc[:,0:].values\n",
        "inputClosing_scaled = sc.transform(inputClosing)\n",
        "inputClosing_scaled.shape\n",
        "X_test = []\n",
        "length = len(testData)\n",
        "timestep = 60\n",
        "for i in range(timestep,length):\n",
        "    X_test.append(inputClosing_scaled[i-timestep:i,0])\n",
        "X_test = np.array(X_test)\n",
        "X_test = np.reshape(X_test,(X_test.shape[0],X_test.shape[1],1))\n",
        "X_test.shape"
      ],
      "metadata": {
        "colab": {
          "base_uri": "https://localhost:8080/"
        },
        "id": "uQpPyx_FNz5s",
        "outputId": "823b70ad-8193-4a91-eddc-9e9f289a6e7b"
      },
      "execution_count": null,
      "outputs": [
        {
          "output_type": "execute_result",
          "data": {
            "text/plain": [
              "(192, 60, 1)"
            ]
          },
          "metadata": {},
          "execution_count": 12
        }
      ]
    },
    {
      "cell_type": "code",
      "source": [
        "y_pred = model.predict(X_test)\n",
        "y_pred"
      ],
      "metadata": {
        "colab": {
          "base_uri": "https://localhost:8080/"
        },
        "id": "5h9_lMgHN5k3",
        "outputId": "3efb1cbb-b7aa-4cae-a4b8-ed80522d4ead"
      },
      "execution_count": null,
      "outputs": [
        {
          "output_type": "stream",
          "name": "stdout",
          "text": [
            "6/6 [==============================] - 2s 62ms/step\n"
          ]
        },
        {
          "output_type": "execute_result",
          "data": {
            "text/plain": [
              "array([[1.3147644],\n",
              "       [1.3170522],\n",
              "       [1.3277447],\n",
              "       [1.3444356],\n",
              "       [1.3583813],\n",
              "       [1.3591559],\n",
              "       [1.3466455],\n",
              "       [1.3285702],\n",
              "       [1.3163713],\n",
              "       [1.3127325],\n",
              "       [1.306314 ],\n",
              "       [1.2954525],\n",
              "       [1.28525  ],\n",
              "       [1.2756709],\n",
              "       [1.2729467],\n",
              "       [1.2768092],\n",
              "       [1.2939605],\n",
              "       [1.321789 ],\n",
              "       [1.3542122],\n",
              "       [1.3867909],\n",
              "       [1.4013512],\n",
              "       [1.3994969],\n",
              "       [1.3802519],\n",
              "       [1.351513 ],\n",
              "       [1.3249975],\n",
              "       [1.3095224],\n",
              "       [1.3056612],\n",
              "       [1.3054875],\n",
              "       [1.298976 ],\n",
              "       [1.2882247],\n",
              "       [1.2758235],\n",
              "       [1.2616161],\n",
              "       [1.2408736],\n",
              "       [1.2152029],\n",
              "       [1.2032393],\n",
              "       [1.2106426],\n",
              "       [1.2311217],\n",
              "       [1.2555138],\n",
              "       [1.2790233],\n",
              "       [1.2915537],\n",
              "       [1.3035874],\n",
              "       [1.318185 ],\n",
              "       [1.335526 ],\n",
              "       [1.3522588],\n",
              "       [1.3642726],\n",
              "       [1.3670857],\n",
              "       [1.3587117],\n",
              "       [1.3505234],\n",
              "       [1.3484974],\n",
              "       [1.3547393],\n",
              "       [1.368364 ],\n",
              "       [1.3784927],\n",
              "       [1.3822478],\n",
              "       [1.3802326],\n",
              "       [1.3789892],\n",
              "       [1.3757931],\n",
              "       [1.3680464],\n",
              "       [1.3638797],\n",
              "       [1.3722216],\n",
              "       [1.389905 ],\n",
              "       [1.415681 ],\n",
              "       [1.4468307],\n",
              "       [1.4695395],\n",
              "       [1.4748485],\n",
              "       [1.464199 ],\n",
              "       [1.4448348],\n",
              "       [1.4307446],\n",
              "       [1.4260032],\n",
              "       [1.4293029],\n",
              "       [1.4349296],\n",
              "       [1.4407095],\n",
              "       [1.4442507],\n",
              "       [1.4410203],\n",
              "       [1.4354792],\n",
              "       [1.4305377],\n",
              "       [1.4288825],\n",
              "       [1.4306751],\n",
              "       [1.4354857],\n",
              "       [1.4468242],\n",
              "       [1.4642065],\n",
              "       [1.4868536],\n",
              "       [1.5089594],\n",
              "       [1.5222642],\n",
              "       [1.5251   ],\n",
              "       [1.528835 ],\n",
              "       [1.5409404],\n",
              "       [1.5590596],\n",
              "       [1.5755416],\n",
              "       [1.5858908],\n",
              "       [1.5894781],\n",
              "       [1.5918853],\n",
              "       [1.6015588],\n",
              "       [1.6190746],\n",
              "       [1.6321015],\n",
              "       [1.6330017],\n",
              "       [1.6214919],\n",
              "       [1.6003708],\n",
              "       [1.5753505],\n",
              "       [1.5539703],\n",
              "       [1.5455841],\n",
              "       [1.5512086],\n",
              "       [1.5668949],\n",
              "       [1.5883573],\n",
              "       [1.6075774],\n",
              "       [1.6196178],\n",
              "       [1.6223474],\n",
              "       [1.6194566],\n",
              "       [1.6150638],\n",
              "       [1.6148949],\n",
              "       [1.6198547],\n",
              "       [1.6291031],\n",
              "       [1.6419996],\n",
              "       [1.6552813],\n",
              "       [1.669388 ],\n",
              "       [1.6865505],\n",
              "       [1.7014802],\n",
              "       [1.7131797],\n",
              "       [1.7232574],\n",
              "       [1.7355003],\n",
              "       [1.7200985],\n",
              "       [1.6746224],\n",
              "       [1.6145853],\n",
              "       [1.5643225],\n",
              "       [1.5350698],\n",
              "       [1.522217 ],\n",
              "       [1.5181941],\n",
              "       [1.517588 ],\n",
              "       [1.5188309],\n",
              "       [1.5127997],\n",
              "       [1.4971591],\n",
              "       [1.4882535],\n",
              "       [1.494433 ],\n",
              "       [1.5080354],\n",
              "       [1.5159649],\n",
              "       [1.5178027],\n",
              "       [1.5162508],\n",
              "       [1.5109125],\n",
              "       [1.5015976],\n",
              "       [1.4908575],\n",
              "       [1.4767882],\n",
              "       [1.4618914],\n",
              "       [1.445549 ],\n",
              "       [1.4130465],\n",
              "       [1.3728614],\n",
              "       [1.3330544],\n",
              "       [1.3013091],\n",
              "       [1.2863015],\n",
              "       [1.2909514],\n",
              "       [1.3093747],\n",
              "       [1.332791 ],\n",
              "       [1.3569382],\n",
              "       [1.3771442],\n",
              "       [1.3926643],\n",
              "       [1.4058177],\n",
              "       [1.4163988],\n",
              "       [1.425887 ],\n",
              "       [1.4364324],\n",
              "       [1.4454714],\n",
              "       [1.4440817],\n",
              "       [1.4309492],\n",
              "       [1.4102461],\n",
              "       [1.3894866],\n",
              "       [1.377655 ],\n",
              "       [1.3793846],\n",
              "       [1.3940297],\n",
              "       [1.4178602],\n",
              "       [1.4402056],\n",
              "       [1.4573834],\n",
              "       [1.472089 ],\n",
              "       [1.485447 ],\n",
              "       [1.4966764],\n",
              "       [1.5059934],\n",
              "       [1.5136256],\n",
              "       [1.5172389],\n",
              "       [1.5167464],\n",
              "       [1.5092916],\n",
              "       [1.4991074],\n",
              "       [1.4918531],\n",
              "       [1.4870007],\n",
              "       [1.4824759],\n",
              "       [1.5082061],\n",
              "       [1.5584155],\n",
              "       [1.6118191],\n",
              "       [1.6509748],\n",
              "       [1.668634 ],\n",
              "       [1.6641445],\n",
              "       [1.634285 ],\n",
              "       [1.5954565],\n",
              "       [1.5616698],\n",
              "       [1.547542 ],\n",
              "       [1.5476868],\n",
              "       [1.5515066]], dtype=float32)"
            ]
          },
          "metadata": {},
          "execution_count": 13
        }
      ]
    },
    {
      "cell_type": "code",
      "source": [
        "predicted_price = sc.inverse_transform(y_pred)"
      ],
      "metadata": {
        "id": "UVrlXgvsN71c"
      },
      "execution_count": null,
      "outputs": []
    },
    {
      "cell_type": "code",
      "source": [
        "plt.plot(y_test, color = 'red', label = 'Actual Stock Price')\n",
        "plt.plot(predicted_price, color = 'green', label = 'Predicted Stock Price')\n",
        "plt.title('Google stock price prediction')\n",
        "plt.xlabel('Time')\n",
        "plt.ylabel('Stock Price')\n",
        "plt.legend()\n",
        "plt.show()"
      ],
      "metadata": {
        "colab": {
          "base_uri": "https://localhost:8080/",
          "height": 472
        },
        "id": "NQ4SWaLWN-SM",
        "outputId": "040acd8e-0ff6-4b36-e3ae-ebe67a551246"
      },
      "execution_count": null,
      "outputs": [
        {
          "output_type": "display_data",
          "data": {
            "text/plain": [
              "<Figure size 640x480 with 1 Axes>"
            ],
            "image/png": "[encoded data removed]"
          },
          "metadata": {}
        }
      ]
    }
  ]
}